{
 "cells": [
  {
   "cell_type": "code",
   "execution_count": 15,
   "metadata": {},
   "outputs": [],
   "source": [
    "from pyspark.sql import SparkSession \n",
    "import matplotlib.pyplot as plt \n",
    "spark = SparkSession.builder.getOrCreate()"
   ]
  },
  {
   "cell_type": "code",
   "execution_count": 4,
   "metadata": {},
   "outputs": [],
   "source": [
    "# Load Data \n",
    "book_df = spark.read.option(\"inferschema\", \"true\").csv(\"Books.csv\", header=True)\n",
    "detail_df = spark.read.option(\"inferschema\", \"true\").csv(\"Detail.csv\", header=True)\n",
    "header_df = spark.read.option(\"inferschema\", \"true\").csv(\"Header.csv\", header=True)\n",
    "rating_df = spark.read.option(\"inferschema\", \"true\").csv(\"Ratings.csv\", header=True)\n",
    "user_df = spark.read.option(\"inferschema\", \"true\").csv(\"Users.csv\", header=True)"
   ]
  },
  {
   "cell_type": "code",
   "execution_count": 5,
   "metadata": {},
   "outputs": [],
   "source": [
    "book_df.registerTempTable(\"book\")\n",
    "detail_df.registerTempTable(\"detail\")\n",
    "header_df.registerTempTable(\"header\")\n",
    "rating_df.registerTempTable(\"rating\")\n",
    "user_df.registerTempTable(\"user\")"
   ]
  },
  {
   "cell_type": "code",
   "execution_count": 17,
   "metadata": {},
   "outputs": [
    {
     "name": "stdout",
     "output_type": "stream",
     "text": [
      "+-----+-----------+\n",
      "|Total|Book-Rating|\n",
      "+-----+-----------+\n",
      "|   11|          5|\n",
      "|   18|          6|\n",
      "|   22|          7|\n",
      "|   30|          8|\n",
      "|   23|          9|\n",
      "|   31|         10|\n",
      "+-----+-----------+\n",
      "\n"
     ]
    },
    {
     "data": {
      "image/png": "[encoded data removed]",
      "text/plain": [
       "<Figure size 432x288 with 1 Axes>"
      ]
     },
     "metadata": {},
     "output_type": "display_data"
    }
   ],
   "source": [
    "# Result 1\n",
    "res1 = spark.sql(\"\"\"\n",
    "            SELECT \n",
    "                COUNT(*) AS Total,\n",
    "                `Book-Rating`\n",
    "            FROM book b\n",
    "            JOIN rating r ON b.`Book-ID` = r.`Book-ID`\n",
    "            WHERE r.`Book-Rating` BETWEEN 5 AND 10 \n",
    "            GROUP BY r.`Book-Rating`\n",
    "            ORDER BY `Book-Rating`\n",
    "\"\"\")\n",
    "\n",
    "res1.show()\n",
    "res1= res1.toPandas()\n",
    "\n",
    "# Plotting\n",
    "plt.title(\"Percentage of Total Book from rating 5 until 10\")\n",
    "plt.pie(res1[\"Total\"], labels=res1[\"Book-Rating\"], autopct=\"%.2f%%\")\n",
    "plt.show()"
   ]
  },
  {
   "cell_type": "code",
   "execution_count": 21,
   "metadata": {},
   "outputs": [
    {
     "name": "stdout",
     "output_type": "stream",
     "text": [
      "+------------+-----+\n",
      "|Total Income|month|\n",
      "+------------+-----+\n",
      "|        2130|  Jan|\n",
      "|       11340|  Feb|\n",
      "|       10960|  Mar|\n",
      "|        4690|  Apr|\n",
      "|       33990|  May|\n",
      "|       10070|  Jun|\n",
      "|       11400|  Jul|\n",
      "|       16060|  Aug|\n",
      "|        1970|  Sep|\n",
      "|        5950|  Oct|\n",
      "|        1460|  Nov|\n",
      "|        3860|  Dec|\n",
      "+------------+-----+\n",
      "\n"
     ]
    }
   ],
   "source": [
    "res2 = spark.sql(\"\"\"\n",
    "        SELECT\n",
    "                SUM(b.`Book-Price` * d.`Quantity`) AS `Total Income`,\n",
    "                date_format(h.`Transaction-Date`, 'MMM') as month \n",
    "        FROM book b \n",
    "        JOIN detail d ON b.`Book-ID` = d.`Book-ID`\n",
    "        JOIN header h ON h.`Header-ID` = d.`Header-ID`\n",
    "        WHERE YEAR(h.`Transaction-Date`) = 2019\n",
    "        GROUP BY date_format(h.`Transaction-Date`, 'MMM')\n",
    "        ORDER BY MIN(MONTH(h.`Transaction-Date`)) ASC    \n",
    "\"\"\")\n",
    "\n",
    "res2.show()"
   ]
  }
 ],
 "metadata": {
  "kernelspec": {
   "display_name": "Python 3",
   "language": "python",
   "name": "python3"
  },
  "language_info": {
   "codemirror_mode": {
    "name": "ipython",
    "version": 3
   },
   "file_extension": ".py",
   "mimetype": "text/x-python",
   "name": "python",
   "nbconvert_exporter": "python",
   "pygments_lexer": "ipython3",
   "version": "3.7.4"
  }
 },
 "nbformat": 4,
 "nbformat_minor": 2
}
