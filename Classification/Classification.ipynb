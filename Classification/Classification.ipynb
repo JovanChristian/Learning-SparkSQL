{
 "cells": [
  {
   "cell_type": "code",
   "execution_count": 19,
   "metadata": {},
   "outputs": [],
   "source": [
    "from pyspark.sql import SparkSession\n",
    "from pyspark.sql.functions import *\n",
    "from pyspark.ml.feature import VectorAssembler, StandardScaler\n",
    "from pyspark.ml.classification import LogisticRegression\n",
    "from pyspark.ml.evaluation import BinaryClassificationEvaluator\n",
    "spark = SparkSession.builder.getOrCreate()"
   ]
  },
  {
   "cell_type": "code",
   "execution_count": 25,
   "metadata": {},
   "outputs": [
    {
     "name": "stdout",
     "output_type": "stream",
     "text": [
      "+-----------+----------+\n",
      "|prehistoric|prediction|\n",
      "+-----------+----------+\n",
      "|          1|       1.0|\n",
      "|          0|       0.0|\n",
      "|          0|       0.0|\n",
      "|          1|       1.0|\n",
      "|          0|       0.0|\n",
      "|          1|       1.0|\n",
      "|          0|       0.0|\n",
      "|          1|       1.0|\n",
      "|          1|       0.0|\n",
      "|          1|       0.0|\n",
      "+-----------+----------+\n",
      "only showing top 10 rows\n",
      "\n"
     ]
    },
    {
     "ename": "AttributeError",
     "evalue": "'str' object has no attribute '_jdf'",
     "output_type": "error",
     "traceback": [
      "\u001b[0;31m---------------------------------------------------------------------------\u001b[0m",
      "\u001b[0;31mAttributeError\u001b[0m                            Traceback (most recent call last)",
      "\u001b[0;32m<ipython-input-25-3c5e18e31126>\u001b[0m in \u001b[0;36m<module>\u001b[0;34m\u001b[0m\n\u001b[1;32m     63\u001b[0m \u001b[0;34m\u001b[0m\u001b[0m\n\u001b[1;32m     64\u001b[0m \u001b[0mevaluator\u001b[0m \u001b[0;34m=\u001b[0m \u001b[0mBinaryClassificationEvaluator\u001b[0m\u001b[0;34m(\u001b[0m\u001b[0mlabelCol\u001b[0m\u001b[0;34m=\u001b[0m\u001b[0;34m\"prehistoric\"\u001b[0m\u001b[0;34m)\u001b[0m\u001b[0;34m\u001b[0m\u001b[0;34m\u001b[0m\u001b[0m\n\u001b[0;32m---> 65\u001b[0;31m \u001b[0mprint\u001b[0m\u001b[0;34m(\u001b[0m\u001b[0;34m\"Accuracy = {}%\"\u001b[0m\u001b[0;34m.\u001b[0m\u001b[0mformat\u001b[0m\u001b[0;34m(\u001b[0m\u001b[0mevaluator\u001b[0m\u001b[0;34m.\u001b[0m\u001b[0mevaluate\u001b[0m\u001b[0;34m(\u001b[0m\u001b[0;34m\"prediction\"\u001b[0m\u001b[0;34m)\u001b[0m\u001b[0;34m*\u001b[0m \u001b[0;36m100\u001b[0m\u001b[0;34m)\u001b[0m\u001b[0;34m)\u001b[0m\u001b[0;34m\u001b[0m\u001b[0;34m\u001b[0m\u001b[0m\n\u001b[0m",
      "\u001b[0;32m~/Downloads/]/lib/python3.7/site-packages/pyspark/ml/evaluation.py\u001b[0m in \u001b[0;36mevaluate\u001b[0;34m(self, dataset, params)\u001b[0m\n\u001b[1;32m     69\u001b[0m                 \u001b[0;32mreturn\u001b[0m \u001b[0mself\u001b[0m\u001b[0;34m.\u001b[0m\u001b[0mcopy\u001b[0m\u001b[0;34m(\u001b[0m\u001b[0mparams\u001b[0m\u001b[0;34m)\u001b[0m\u001b[0;34m.\u001b[0m\u001b[0m_evaluate\u001b[0m\u001b[0;34m(\u001b[0m\u001b[0mdataset\u001b[0m\u001b[0;34m)\u001b[0m\u001b[0;34m\u001b[0m\u001b[0;34m\u001b[0m\u001b[0m\n\u001b[1;32m     70\u001b[0m             \u001b[0;32melse\u001b[0m\u001b[0;34m:\u001b[0m\u001b[0;34m\u001b[0m\u001b[0;34m\u001b[0m\u001b[0m\n\u001b[0;32m---> 71\u001b[0;31m                 \u001b[0;32mreturn\u001b[0m \u001b[0mself\u001b[0m\u001b[0;34m.\u001b[0m\u001b[0m_evaluate\u001b[0m\u001b[0;34m(\u001b[0m\u001b[0mdataset\u001b[0m\u001b[0;34m)\u001b[0m\u001b[0;34m\u001b[0m\u001b[0;34m\u001b[0m\u001b[0m\n\u001b[0m\u001b[1;32m     72\u001b[0m         \u001b[0;32melse\u001b[0m\u001b[0;34m:\u001b[0m\u001b[0;34m\u001b[0m\u001b[0;34m\u001b[0m\u001b[0m\n\u001b[1;32m     73\u001b[0m             \u001b[0;32mraise\u001b[0m \u001b[0mValueError\u001b[0m\u001b[0;34m(\u001b[0m\u001b[0;34m\"Params must be a param map but got %s.\"\u001b[0m \u001b[0;34m%\u001b[0m \u001b[0mtype\u001b[0m\u001b[0;34m(\u001b[0m\u001b[0mparams\u001b[0m\u001b[0;34m)\u001b[0m\u001b[0;34m)\u001b[0m\u001b[0;34m\u001b[0m\u001b[0;34m\u001b[0m\u001b[0m\n",
      "\u001b[0;32m~/Downloads/]/lib/python3.7/site-packages/pyspark/ml/evaluation.py\u001b[0m in \u001b[0;36m_evaluate\u001b[0;34m(self, dataset)\u001b[0m\n\u001b[1;32m     99\u001b[0m         \"\"\"\n\u001b[1;32m    100\u001b[0m         \u001b[0mself\u001b[0m\u001b[0;34m.\u001b[0m\u001b[0m_transfer_params_to_java\u001b[0m\u001b[0;34m(\u001b[0m\u001b[0;34m)\u001b[0m\u001b[0;34m\u001b[0m\u001b[0;34m\u001b[0m\u001b[0m\n\u001b[0;32m--> 101\u001b[0;31m         \u001b[0;32mreturn\u001b[0m \u001b[0mself\u001b[0m\u001b[0;34m.\u001b[0m\u001b[0m_java_obj\u001b[0m\u001b[0;34m.\u001b[0m\u001b[0mevaluate\u001b[0m\u001b[0;34m(\u001b[0m\u001b[0mdataset\u001b[0m\u001b[0;34m.\u001b[0m\u001b[0m_jdf\u001b[0m\u001b[0;34m)\u001b[0m\u001b[0;34m\u001b[0m\u001b[0;34m\u001b[0m\u001b[0m\n\u001b[0m\u001b[1;32m    102\u001b[0m \u001b[0;34m\u001b[0m\u001b[0m\n\u001b[1;32m    103\u001b[0m     \u001b[0;32mdef\u001b[0m \u001b[0misLargerBetter\u001b[0m\u001b[0;34m(\u001b[0m\u001b[0mself\u001b[0m\u001b[0;34m)\u001b[0m\u001b[0;34m:\u001b[0m\u001b[0;34m\u001b[0m\u001b[0;34m\u001b[0m\u001b[0m\n",
      "\u001b[0;31mAttributeError\u001b[0m: 'str' object has no attribute '_jdf'"
     ]
    }
   ],
   "source": [
    "train_df = spark.read.option(\"inferschema\", \"true\").csv(\"BigFootTraining.csv\", header=True)\n",
    "test_df = spark.read.option(\"inferschema\", \"true\").csv(\"BigFootTesting.csv\", header=True)\n",
    "\n",
    "train_df = train_df.select(\"fur_color\", \"weight\", \"eye_color\", \"prehistoric\")\n",
    "test_df = test_df.select(\"fur_color\", \"weight\", \"eye_color\", \"prehistoric\")\n",
    "\n",
    "train_df= train_df.na.drop()\n",
    "test_df= test_df.na.drop()\n",
    "\n",
    "train_df =  train_df.withColumn(\"fur_color\",when (train_df[\"fur_color\"] == \"orange\", 0).\n",
    "                                            when (train_df[\"fur_color\"] == \"red\", 1).\n",
    "                                            when (train_df[\"fur_color\"] == \"calico\", 2).\n",
    "                                            when (train_df[\"fur_color\"] == \"black\", 3).\n",
    "                                            when (train_df[\"fur_color\"] == \"white\", 4).\n",
    "                                            when (train_df[\"fur_color\"] == \"grey\", 5).\n",
    "                                            when (train_df[\"fur_color\"] == \"brown\", 6).\n",
    "                                            when (train_df[\"fur_color\"] == \"dark grey\", 7))\n",
    "\n",
    "train_df =  train_df.withColumn(\"eye_color\",when (train_df[\"eye_color\"] == \"dark brown\", 0).\n",
    "                                            when (train_df[\"eye_color\"] == \"green\", 1).\n",
    "                                            when (train_df[\"eye_color\"] == \"blue\", 2).\n",
    "                                            when (train_df[\"eye_color\"] == \"brown\", 3).\n",
    "                                            when (train_df[\"eye_color\"] == \"black\", 4)) \n",
    "\n",
    "train_df =  train_df.withColumn(\"prehistoric\",when (train_df[\"prehistoric\"] == \"True\", 0).\n",
    "                                            when (train_df[\"prehistoric\"] == \"False\", 1))\n",
    "\n",
    "train_df = train_df.withColumn(\"weight\", regexp_replace(train_df[\"weight\"], \" kg\", \"\").cast(\"int\"))\n",
    "\n",
    "test_df =  test_df.withColumn(\"fur_color\",when (test_df[\"fur_color\"] == \"orange\", 0).\n",
    "                                            when (test_df[\"fur_color\"] == \"red\", 1).\n",
    "                                            when (test_df[\"fur_color\"] == \"calico\", 2).\n",
    "                                            when (test_df[\"fur_color\"] == \"black\", 3).\n",
    "                                            when (test_df[\"fur_color\"] == \"white\", 4).\n",
    "                                            when (test_df[\"fur_color\"] == \"grey\", 5).\n",
    "                                            when (test_df[\"fur_color\"] == \"brown\", 6).\n",
    "                                            when (test_df[\"fur_color\"] == \"dark grey\", 7))\n",
    "\n",
    "test_df =  test_df.withColumn(\"eye_color\",when (test_df[\"eye_color\"] == \"dark brown\", 0).\n",
    "                                            when (test_df[\"eye_color\"] == \"green\", 1).\n",
    "                                            when (test_df[\"eye_color\"] == \"blue\", 2).\n",
    "                                            when (test_df[\"eye_color\"] == \"brown\", 3).\n",
    "                                            when (test_df[\"eye_color\"] == \"black\", 4)) \n",
    "\n",
    "test_df =  test_df.withColumn(\"prehistoric\",when (test_df[\"prehistoric\"] == \"True\", 0).\n",
    "                                            when (test_df[\"prehistoric\"] == \"False\", 1))\n",
    "\n",
    "test_df = test_df.withColumn(\"weight\", regexp_replace(test_df[\"weight\"], \" kg\", \"\").cast(\"int\"))\n",
    "\n",
    "col = train_df.columns\n",
    "col.remove(\"prehistoric\")\n",
    "\n",
    "train_df = VectorAssembler(inputCols=col, outputCol=\"features\").transform(train_df)\n",
    "train_df = StandardScaler(inputCol=\"features\", outputCol=\"scaled_feature\").fit(train_df).transform(train_df)\n",
    "\n",
    "test_df = VectorAssembler(inputCols=col, outputCol=\"features\").transform(test_df)\n",
    "test_df = StandardScaler(inputCol=\"features\", outputCol=\"scaled_feature\").fit(test_df).transform(test_df)\n",
    "\n",
    "model = LogisticRegression(featuresCol=\"scaled_feature\", labelCol=\"prehistoric\", maxIter=10).fit(train_df)\n",
    "\n",
    "prediction = model.transform(test_df)\n",
    "prediction.select(\"prehistoric\", \"prediction\").show(10)\n",
    "\n",
    "evaluator = BinaryClassificationEvaluator(labelCol=\"prehistoric\")\n",
    "print(\"Accuracy = {}%\".format(evaluator.evaluate(\"prediction\")* 100))"
   ]
  },
  {
   "cell_type": "code",
   "execution_count": 14,
   "metadata": {},
   "outputs": [
    {
     "name": "stdout",
     "output_type": "stream",
     "text": [
      "+---------+-----+\n",
      "|fur_color|count|\n",
      "+---------+-----+\n",
      "|   orange|  843|\n",
      "|     grey| 1063|\n",
      "|   calico|  907|\n",
      "|    white| 1061|\n",
      "|      red|  864|\n",
      "|    black| 1058|\n",
      "|    brown| 1071|\n",
      "|dark grey| 1101|\n",
      "+---------+-----+\n",
      "\n",
      "+----------+-----+\n",
      "| eye_color|count|\n",
      "+----------+-----+\n",
      "|dark brown|  912|\n",
      "|     green| 1648|\n",
      "|     black| 1918|\n",
      "|     brown| 1819|\n",
      "|      blue| 1671|\n",
      "+----------+-----+\n",
      "\n"
     ]
    }
   ],
   "source": [
    "train_df.groupBy(\"fur_color\").count().show()\n",
    "train_df.groupBy(\"eye_color\").count().show()"
   ]
  },
  {
   "cell_type": "code",
   "execution_count": 18,
   "metadata": {},
   "outputs": [
    {
     "name": "stdout",
     "output_type": "stream",
     "text": [
      "+---------+------+---------+-----------+---------------+--------------------+\n",
      "|fur_color|weight|eye_color|prehistoric|       features|      scaled_feature|\n",
      "+---------+------+---------+-----------+---------------+--------------------+\n",
      "|        5|   122|        1|          0|[5.0,122.0,1.0]|[2.21692727549965...|\n",
      "|        1|   135|        2|          0|[1.0,135.0,2.0]|[0.44338545509993...|\n",
      "|        4|    94|        4|          0| [4.0,94.0,4.0]|[1.77354182039972...|\n",
      "|        5|    69|        3|          1| [5.0,69.0,3.0]|[2.21692727549965...|\n",
      "|        6|   126|        2|          0|[6.0,126.0,2.0]|[2.66031273059959...|\n",
      "+---------+------+---------+-----------+---------------+--------------------+\n",
      "only showing top 5 rows\n",
      "\n",
      "+---------+------+---------+-----------+---------------+--------------------+\n",
      "|fur_color|weight|eye_color|prehistoric|       features|      scaled_feature|\n",
      "+---------+------+---------+-----------+---------------+--------------------+\n",
      "|        2|    69|        3|          1| [2.0,69.0,3.0]|[0.79310430039360...|\n",
      "|        4|   236|        4|          0|[4.0,236.0,4.0]|[1.58620860078720...|\n",
      "|        1|   205|        2|          0|[1.0,205.0,2.0]|[0.39655215019680...|\n",
      "|        0|    67|        4|          1| [0.0,67.0,4.0]|[0.0,1.1960015542...|\n",
      "|        7|   289|        4|          0|[7.0,289.0,4.0]|[2.77586505137761...|\n",
      "+---------+------+---------+-----------+---------------+--------------------+\n",
      "only showing top 5 rows\n",
      "\n"
     ]
    }
   ],
   "source": [
    "train_df.show(5)\n",
    "test_df.show(5)"
   ]
  },
  {
   "cell_type": "code",
   "execution_count": null,
   "metadata": {},
   "outputs": [],
   "source": []
  }
 ],
 "metadata": {
  "kernelspec": {
   "display_name": "Python 3",
   "language": "python",
   "name": "python3"
  },
  "language_info": {
   "codemirror_mode": {
    "name": "ipython",
    "version": 3
   },
   "file_extension": ".py",
   "mimetype": "text/x-python",
   "name": "python",
   "nbconvert_exporter": "python",
   "pygments_lexer": "ipython3",
   "version": "3.7.4"
  }
 },
 "nbformat": 4,
 "nbformat_minor": 2
}
